{
  "nbformat": 4,
  "nbformat_minor": 0,
  "metadata": {
    "colab": {
      "name": "Mutalyzer_webscraping.ipynb",
      "provenance": [],
      "collapsed_sections": []
    },
    "kernelspec": {
      "name": "python3",
      "display_name": "Python 3"
    },
    "language_info": {
      "name": "python"
    }
  },
  "cells": [
    {
      "cell_type": "code",
      "source": [
        "#https://www.codegrepper.com/code-examples/css/beautifulsoup+find+all+css+selector\n",
        "#https://stackoverflow.com/questions/5999747/beautifulsoup-nextsibling\n",
        "#https://pytutorial.com/beautifulsoup-find-by-text"
      ],
      "metadata": {
        "id": "Xud3rS0zscZx"
      },
      "execution_count": null,
      "outputs": []
    },
    {
      "cell_type": "code",
      "source": [
        "hgvs_id = 'NC_000010.10:g.5034019_5034022del'\n",
        "\n",
        " \n",
        "response = requests.get('https://mutalyzer.nl/position-converter?assembly_name_or_alias=GRCh37&description={}'.format(hgvs_id)).text \n",
        "# print(dir(response))\n",
        "# print(response.headers)\n",
        "soup = BeautifulSoup(response, \"html.parser\")\n",
        "try:\n",
        "    found_transcripts  = soup.find(\"pre\").text.split()[2:]\n",
        "    print(found_transcripts)\n",
        "except:\n",
        "  print('no results')\n",
        "  "
      ],
      "metadata": {
        "colab": {
          "base_uri": "https://localhost:8080/"
        },
        "id": "XCql1GMzdZYk",
        "outputId": "b31d138f-7c2f-4ca2-f931-f58fe635aecd"
      },
      "execution_count": null,
      "outputs": [
        {
          "output_type": "stream",
          "name": "stdout",
          "text": [
            "[':', 'NM_001354.5:c.929+1_929+4del', 'NM_205845.2:c.929+1_929+4del', 'XM_005252370.1:c.929+1_929+4del', 'XM_005252371.1:c.851+1_851+4del', 'NM_001354.4:c.929+1_929+4del', 'NM_205845.1:c.929+1_929+4del']\n"
          ]
        }
      ]
    },
    {
      "cell_type": "code",
      "source": [
        "hgvs_id = 'NC_000010.10:g.5034019_5034022del'\n",
        "response = requests.get('https://mutalyzer.nl/position-converter?assembly_name_or_alias=GRCh37&description={}'.format(hgvs_id)).text\n",
        "soup = BeautifulSoup(response, \"html.parser\")\n",
        "try:\n",
        "    transcripts = soup.find(text=\"Found transcripts in variant region\").findNext('pre').text.split()#[2:]\n",
        "    print( transcripts )\n",
        "except:\n",
        "  print('no results')\n",
        "  "
      ],
      "metadata": {
        "colab": {
          "base_uri": "https://localhost:8080/"
        },
        "id": "tdmJ3li5qJIc",
        "outputId": "27587e09-d5c3-482f-e296-e84eb70e4256"
      },
      "execution_count": null,
      "outputs": [
        {
          "output_type": "stream",
          "name": "stdout",
          "text": [
            "['LOC1019280:', 'XR_242713.1:n.-4046_-4043delAKR1C2', ':', 'NM_001354.5:c.929+1_929+4del', 'NM_205845.2:c.929+1_929+4del', 'XM_005252370.1:c.929+1_929+4del', 'XM_005252371.1:c.851+1_851+4del', 'NM_001354.4:c.929+1_929+4del', 'NM_205845.1:c.929+1_929+4del']\n"
          ]
        }
      ]
    },
    {
      "cell_type": "code",
      "source": [
        "hgvs_id = 'NM_000059.3:'\n",
        "response = requests.get('https://mutalyzer.nl/position-converter?assembly_name_or_alias=GRCh38&description={}'.format(hgvs_id)).text\n",
        "soup = BeautifulSoup(response, \"html.parser\")\n",
        "try:\n",
        "    x=soup.find(text=\"Chromosomal variant\").findNext('p').text\n",
        "    print(x)\n",
        "except:\n",
        "  print('no results')\n",
        "  "
      ],
      "metadata": {
        "colab": {
          "base_uri": "https://localhost:8080/"
        },
        "id": "T9CpPyz6deIk",
        "outputId": "73556e83-4196-485d-d9bb-55d20f53982a"
      },
      "execution_count": null,
      "outputs": [
        {
          "output_type": "stream",
          "name": "stdout",
          "text": [
            "NM_000059.3:\n"
          ]
        }
      ]
    },
    {
      "cell_type": "code",
      "source": [
        ""
      ],
      "metadata": {
        "id": "_7oMEhtJytuq"
      },
      "execution_count": null,
      "outputs": []
    },
    {
      "cell_type": "code",
      "source": [
        "import requests \n",
        "from bs4 import BeautifulSoup\n",
        "import urllib\n",
        "\n",
        "\n",
        "def get_hgvs_hg38(hgvs_id):\n",
        "  '''\n",
        "  Web scraping script for the extraction of hg39 hgvs variants\n",
        "  hgvs_id : hg19 variant\n",
        "  return: hg39 variant\n",
        "  '''\n",
        "\n",
        "  def find_transcripts(soup):\n",
        "   try:\n",
        "       transcripts_list_raw = list(soup.find(text=\"Found transcripts in variant region\").findNext('pre').stripped_strings)\n",
        "       transcripts = []\n",
        "       for index, raw_trans in enumerate(transcripts_list_raw):\n",
        "         raw_trans_unedited =transcripts_list_raw[index].replace('\\n',',') .split('\\t') \n",
        "         raw_trans_edited = [i.strip(',') for i in raw_trans_unedited if i and i[-1]!=':' ]\n",
        "         transcripts.extend(raw_trans_edited)\n",
        "         #print(transcripts)\n",
        "       return transcripts\n",
        "\n",
        "   except Exception:\n",
        "      return None\n",
        "\n",
        "\n",
        "  def find_chromosomal_variants(soup):\n",
        "    try:\n",
        "      variant =soup.find(text=\"Chromosomal variant\").findNext('p').text\n",
        "      return variant\n",
        "    except Exception:\n",
        "      return None\n",
        "\n",
        "\n",
        "  def getting_details_for_grch37(hgvs_id):\n",
        "    response = requests.get('https://mutalyzer.nl/position-converter?assembly_name_or_alias=GRCh37&description={}'.format(hgvs_id)).text\n",
        "    soup = BeautifulSoup(response, \"html.parser\")\n",
        "    grch37_transcripts = find_transcripts(soup)\n",
        "    print(grch37_transcripts)\n",
        "    return grch37_transcripts\n",
        "\n",
        "  \n",
        "  def getting_hgvs_grch38(hgvs_id):\n",
        "    grch37_transcripts = getting_details_for_grch37(hgvs_id)\n",
        "    #print(grch37_transcripts)\n",
        "    if grch37_transcripts == None:\n",
        "      return 'ID not possible / available'\n",
        "    else:\n",
        "      for trans in grch37_transcripts:\n",
        "        trans = urllib.parse.quote(trans)\n",
        "        response = requests.get('https://mutalyzer.nl/position-converter?assembly_name_or_alias=GRCh38&description={}'.format( trans ))\n",
        "        soup = BeautifulSoup(response.text, \"html.parser\")\n",
        "        hgvs_grch38_id = find_chromosomal_variants(soup)\n",
        "        #print(trans,hgvs_grch38_id)\n",
        "      \n",
        "        if (hgvs_grch38_id != None)  :\n",
        "          print('trans is ', trans, response.url)\n",
        "          return hgvs_grch38_id\n",
        "\n",
        "    return hgvs_grch38_id if hgvs_grch38_id else 'No variant ID obtained even after trying all transcripts'\n",
        "        \n",
        "       \n",
        "\n",
        "\n",
        "  return getting_hgvs_grch38(hgvs_id)\n",
        "    \n",
        "      \n",
        "  \n",
        "\n",
        "\n",
        "print(get_hgvs_hg38('NC_000002.11:g.21225485C>G'))\n",
        "print(get_hgvs_hg38('NC_000003.11:g.37053590G>T'))\n",
        "print(get_hgvs_hg38('NC_000007.13:g.144107255A>G'))\n",
        "print(get_hgvs_hg38('NC_000002.11:g.39347640C>T'))\n",
        "print(get_hgvs_hg38('NC_000009.11:g.131267212C>G'))\n",
        "print(get_hgvs_hg38('NC_000002.11:g.21225485C>G'))\n",
        "print(get_hgvs_hg38('NC_000002.11:g.212'))\n",
        "print(get_hgvs_hg38('NC_000'))\n"
      ],
      "metadata": {
        "id": "X1H0NtWsyt0m",
        "colab": {
          "base_uri": "https://localhost:8080/"
        },
        "outputId": "1135a09d-c123-4b17-a19e-a18349dbc5f0"
      },
      "execution_count": null,
      "outputs": [
        {
          "output_type": "stream",
          "name": "stdout",
          "text": [
            "['NM_000384.2:c.12809G>C']\n",
            "trans is  NM_000384.2%3Ac.12809G%3EC https://mutalyzer.nl/position-converter?assembly_name_or_alias=GRCh38&description=NM_000384.2%3Ac.12809G%3EC\n",
            "NC_000002.12:g.21002613C>G\n",
            "['LRG_216t1:c.677G>T', 'NM_000249.3:c.677G>T', 'NM_001258271.1:c.677G>T', 'NM_001258273.1:c.-47G>T', 'XM_005265161.1:c.677G>T', 'NM_000249.2:c.677G>T', 'XM_005265164.1:c.-47G>T', 'XM_005265165.1:c.-47G>T', 'XM_005265162.1:c.383G>T', 'XM_005265166.1:c.-253G>T', 'NM_001167617.1:c.383G>T', 'NM_001167618.1:c.-47G>T', 'NM_001167619.1:c.-47G>T', 'NM_001258274.1:c.-47G>T', 'XM_005265163.1:c.-47G>T']\n",
            "trans is  LRG_216t1%3Ac.677G%3ET https://mutalyzer.nl/position-converter?assembly_name_or_alias=GRCh38&description=LRG_216t1%3Ac.677G%3ET\n",
            "NC_000003.12:g.37012099G>T\n",
            "['NM_001080413.3:c.66T>C', 'NM_001080413.1:c.66T>C']\n",
            "trans is  NM_001080413.3%3Ac.66T%3EC https://mutalyzer.nl/position-converter?assembly_name_or_alias=GRCh38&description=NM_001080413.3%3Ac.66T%3EC\n",
            "NC_000007.14:g.144410162A>G\n",
            "['LRG_754t1:c.-77G>A', 'NM_005633.3:c.-77G>A', 'XM_005264515.1:c.-77G>A']\n",
            "trans is  LRG_754t1%3Ac.-77G%3EA https://mutalyzer.nl/position-converter?assembly_name_or_alias=GRCh38&description=LRG_754t1%3Ac.-77G%3EA\n",
            "NC_000002.12:g.39120499C>T\n",
            "['XM_005252016.1:c.*4678C>G', 'XM_005252020.1:c.*4678C>G', 'XM_005252025.1:c.*4678C>G', 'XM_005252027.1:c.*4678C>G', 'NM_001242352.1:c.*4678C>G', 'NM_001242353.1:c.*4678C>G', 'NM_002540.4:c.*4678C>G', 'NM_153435.1:c.*4678C>G', 'NR_036755.1:n.*3641C>G', 'NR_036756.1:n.*3641C>G', 'NR_036757.1:n.*3641C>G', 'XM_005252010.1:c.*4678C>G', 'XM_005252011.1:c.*4678C>G', 'XM_005252021.1:c.*4678C>G', 'XM_005252017.1:c.*4678C>G', 'XM_005252026.1:c.*4678C>G', 'XM_005252013.1:c.*4678C>G', 'XM_005252018.1:c.*4678C>G', 'XM_005252023.1:c.*4678C>G', 'XM_005252028.1:c.*4678C>G', 'NM_002540.3:c.*4678C>G', 'XM_005252014.1:c.*4678C>G', 'XM_005252024.1:c.*4678C>G', 'NM_153433.1:c.*4678C>G', 'XM_005252015.1:c.*4678C>G', 'XM_005252012.1:c.*4678C>G', 'XM_005252022.1:c.*4678C>G', 'XM_005252029.1:c.*4678C>G', 'XM_005252019.1:c.*4678C>G', 'XM_005252030.1:c.*4678C>G', 'LRG_484t2:c.99+29C>G', 'NM_001499.2:c.99+29C>G', 'XM_005251925.1:c.99+29C>G', 'LRG_484t1:c.99+29C>G', 'NM_001003722.1:c.99+29C>G', 'XM_005251926.1:c.-515+29C>G']\n",
            "trans is  XM_005252016.1%3Ac.%2A4678C%3EG https://mutalyzer.nl/position-converter?assembly_name_or_alias=GRCh38&description=XM_005252016.1%3Ac.%2A4678C%3EG\n",
            "NC_000009.12:g.128504933C>G\n",
            "['NM_000384.2:c.12809G>C']\n",
            "trans is  NM_000384.2%3Ac.12809G%3EC https://mutalyzer.nl/position-converter?assembly_name_or_alias=GRCh38&description=NM_000384.2%3Ac.12809G%3EC\n",
            "NC_000002.12:g.21002613C>G\n",
            "None\n",
            "ID not possible / available\n",
            "None\n",
            "ID not possible / available\n"
          ]
        }
      ]
    },
    {
      "cell_type": "code",
      "source": [
        "print(get_hgvs_hg38('NC_000001.10:g.150532271G>A'))"
      ],
      "metadata": {
        "colab": {
          "base_uri": "https://localhost:8080/"
        },
        "id": "HBWWqTmZeNLf",
        "outputId": "51c77b6a-8190-4120-8bfc-c0be9328285f"
      },
      "execution_count": null,
      "outputs": [
        {
          "output_type": "stream",
          "name": "stdout",
          "text": [
            "['XR_039834.2:n.*283C>T', 'XR_241118.1:n.-4776C>T', 'XM_002342133.1:c.95+347C>T', 'XR_241087.1:n.3482G>A', 'XM_005245269.1:c.3047G>A', 'NM_025008.3:c.*1071G>A', 'NM_019032.4:c.2978G>A']\n",
            "No variant ID obtained even after trying all transcripts\n"
          ]
        }
      ]
    },
    {
      "cell_type": "code",
      "source": [
        "print(get_hgvs_hg38('NC_000023.10:g.76938153G>C'))"
      ],
      "metadata": {
        "colab": {
          "base_uri": "https://localhost:8080/"
        },
        "id": "sTNil0nKft82",
        "outputId": "88485336-166b-4d3b-fedf-fecaeab37710"
      },
      "execution_count": null,
      "outputs": [
        {
          "output_type": "stream",
          "name": "stdout",
          "text": [
            "['XM_005262156.1:c.2430C>G', 'NM_000489.3:c.2595C>G', 'NM_138270.2:c.2481C>G', 'XM_005262155.1:c.2478C>G', 'XM_005262153.1:c.2592C>G', 'XM_005262154.1:c.2508C>G', 'XM_005262157.1:c.2391C>G', 'XM_005262158.1:c.2592C>G']\n",
            "No variant ID obtained even after trying all transcripts\n"
          ]
        }
      ]
    },
    {
      "cell_type": "code",
      "source": [
        ""
      ],
      "metadata": {
        "id": "HFq5h0HrblWN"
      },
      "execution_count": null,
      "outputs": []
    },
    {
      "cell_type": "code",
      "source": [
        "print(get_hgvs_hg38('NC_000009.11:g.135940497C>G'))"
      ],
      "metadata": {
        "colab": {
          "base_uri": "https://localhost:8080/"
        },
        "id": "3yExQxS8fuLN",
        "outputId": "72fee625-5ed0-4db1-8b36-a5fb9b6f0b53"
      },
      "execution_count": null,
      "outputs": [
        {
          "output_type": "stream",
          "name": "stdout",
          "text": [
            "['XM_005272155.1:c.51C>G', 'NM_001807.3:c.420C>G', 'NM_001807.4:c.420C>G', 'XM_003846374.1:c.-3778G>C', 'XM_003846374.2:c.-3778G>C']\n",
            "trans is  NM_001807.4%3Ac.420C%3EG https://mutalyzer.nl/position-converter?assembly_name_or_alias=GRCh38&description=NM_001807.4%3Ac.420C%3EG\n",
            "NC_000009.12:g.133065110C>G\n"
          ]
        }
      ]
    },
    {
      "cell_type": "code",
      "source": [
        "print(get_hgvs_hg38('NC_000009.11:g.135941984G>A'))"
      ],
      "metadata": {
        "colab": {
          "base_uri": "https://localhost:8080/"
        },
        "id": "hkDsrX2mfuPN",
        "outputId": "ca822b4b-8bda-4185-dac4-b1a18eecd1b7"
      },
      "execution_count": null,
      "outputs": [
        {
          "output_type": "stream",
          "name": "stdout",
          "text": [
            "['XM_005272155.1:c.246G>A', 'NM_001807.3:c.615G>A', 'NM_001807.4:c.615G>A']\n",
            "trans is  NM_001807.4%3Ac.615G%3EA https://mutalyzer.nl/position-converter?assembly_name_or_alias=GRCh38&description=NM_001807.4%3Ac.615G%3EA\n",
            "NC_000009.12:g.133066597G>A\n"
          ]
        }
      ]
    },
    {
      "cell_type": "code",
      "source": [
        "print(get_hgvs_hg38('NC_000013.10:g.52520719C>T'))"
      ],
      "metadata": {
        "colab": {
          "base_uri": "https://localhost:8080/"
        },
        "id": "4fYqeANVfuTY",
        "outputId": "78832b57-498c-4365-f43e-cabd0da03354"
      },
      "execution_count": null,
      "outputs": [
        {
          "output_type": "stream",
          "name": "stdout",
          "text": [
            "['XM_005266434.1:c.1150-105G>A', 'XM_005266423.1:c.2770-105G>A', 'XM_005266424.1:c.2770-105G>A', 'XM_005266431.1:c.2830-105G>A', 'NM_000053.2:c.2866-105G>A', 'NM_000053.3:c.2866-105G>A', 'NM_001005918.1:c.2245-105G>A', 'NM_001005918.2:c.2245-105G>A', 'NM_001243182.1:c.2533-105G>A', 'XM_005266428.1:c.2614-105G>A', 'XR_245388.1:n.3085-105G>A', 'XM_005266430.1:c.2866-105G>A', 'XM_005266425.1:c.2722-105G>A', 'XM_005266426.1:c.2866-2292G>A', 'XM_005266427.1:c.2632-105G>A', 'XM_005266429.1:c.2731-2292G>A', 'XM_005266432.1:c.2380-105G>A', 'XM_005266433.1:c.1576-105G>A']\n",
            "trans is  XM_005266423.1%3Ac.2770-105G%3EA https://mutalyzer.nl/position-converter?assembly_name_or_alias=GRCh38&description=XM_005266423.1%3Ac.2770-105G%3EA\n",
            "NC_000013.11:g.51946583C>T\n"
          ]
        }
      ]
    },
    {
      "cell_type": "code",
      "source": [
        ""
      ],
      "metadata": {
        "id": "j-lTFSs_yob9"
      },
      "execution_count": null,
      "outputs": []
    },
    {
      "cell_type": "code",
      "source": [
        "print(get_hgvs_hg38('NC_000011.9:g.17449829G>A'))"
      ],
      "metadata": {
        "colab": {
          "base_uri": "https://localhost:8080/"
        },
        "id": "vifz44A3cjKN",
        "outputId": "e71abaae-d06e-4345-a323-941c0d1c6b5f"
      },
      "execution_count": null,
      "outputs": [
        {
          "output_type": "stream",
          "name": "stdout",
          "text": [
            "['XM_005253088.1:c.2040+7C>T', 'LRG_790t1:c.2040+7C>T', 'NM_000352.3:c.2040+7C>T']\n",
            "trans is  LRG_790t1%3Ac.2040%2B7C%3ET https://mutalyzer.nl/position-converter?assembly_name_or_alias=GRCh38&description=LRG_790t1%3Ac.2040%2B7C%3ET\n",
            "NC_000011.10:g.17428282G>A\n"
          ]
        }
      ]
    },
    {
      "cell_type": "code",
      "source": [
        ""
      ],
      "metadata": {
        "id": "aoejoqC6cjND"
      },
      "execution_count": null,
      "outputs": []
    },
    {
      "cell_type": "code",
      "source": [
        "https://mutalyzer.nl/position-converter?assembly_name_or_alias=GRCh38&description=LRG_790t1%3Ac.2040%2B7C%3ET"
      ],
      "metadata": {
        "id": "SYYh_vV-cjPn"
      },
      "execution_count": null,
      "outputs": []
    },
    {
      "cell_type": "code",
      "source": [
        "https://mutalyzer.nl/position-converter?assembly_name_or_alias=GRCh38&description=LRG_790t1:c.2040+7C%3ET"
      ],
      "metadata": {
        "id": "1q6_zejJyoeu"
      },
      "execution_count": null,
      "outputs": []
    },
    {
      "cell_type": "code",
      "source": [
        "https://mutalyzer.nl/position-converter?assembly_name_or_alias=GRCh38&description=LRG_790t1%3Ac.2040%2B7C%3ET"
      ],
      "metadata": {
        "id": "eyPnZgkydIg2"
      },
      "execution_count": null,
      "outputs": []
    },
    {
      "cell_type": "code",
      "source": [
        " s = 'LRG_790t1:c.2040+7C>T'"
      ],
      "metadata": {
        "id": "5GHPhMLpoyMG"
      },
      "execution_count": null,
      "outputs": []
    },
    {
      "cell_type": "code",
      "source": [
        "from requests.utils import requote_uri\n",
        "requote_uri(s)"
      ],
      "metadata": {
        "colab": {
          "base_uri": "https://localhost:8080/",
          "height": 36
        },
        "id": "7azIWzvhoySX",
        "outputId": "474fcc0a-c7ed-454f-e9cf-93634a5f58d9"
      },
      "execution_count": null,
      "outputs": [
        {
          "output_type": "execute_result",
          "data": {
            "text/plain": [
              "'LRG_790t1:c.2040+7C%3ET'"
            ],
            "application/vnd.google.colaboratory.intrinsic+json": {
              "type": "string"
            }
          },
          "metadata": {},
          "execution_count": 13
        }
      ]
    },
    {
      "cell_type": "code",
      "source": [
        "import urllib\n",
        " \n",
        "print (urllib.parse.quote('LRG_790t1:c.2040+7C>T' ))\n"
      ],
      "metadata": {
        "id": "DbjdT-piyohu",
        "colab": {
          "base_uri": "https://localhost:8080/"
        },
        "outputId": "ad11ec8c-c4b3-463c-d8bd-6a1fccdc73fc"
      },
      "execution_count": null,
      "outputs": [
        {
          "output_type": "stream",
          "name": "stdout",
          "text": [
            "LRG_790t1%3Ac.2040%2B7C%3ET\n"
          ]
        }
      ]
    },
    {
      "cell_type": "code",
      "source": [
        "#https://mutalyzer.nl/position-converter?assembly_name_or_alias=GRCh38&description=LRG_790t1%3Ac.2040%2B7C%3ET"
      ],
      "metadata": {
        "id": "lBYLCrN8cUAd"
      },
      "execution_count": null,
      "outputs": []
    },
    {
      "cell_type": "code",
      "source": [
        ""
      ],
      "metadata": {
        "id": "UX3E_vqUcUG7"
      },
      "execution_count": null,
      "outputs": []
    },
    {
      "cell_type": "code",
      "source": [
        ""
      ],
      "metadata": {
        "id": "fRspzvoxcUOG"
      },
      "execution_count": null,
      "outputs": []
    },
    {
      "cell_type": "code",
      "source": [
        "\n",
        "# correct code\n",
        "\n",
        "import requests\n",
        "from bs4 import BeautifulSoup\n",
        "\n",
        "\n",
        "url = 'https://mutalyzer.nl/position-converter?assembly_name_or_alias=GRCh37&description=NC_000002.11:g.39347640C>T'\n",
        "r = requests.get(url).text\n",
        "\n",
        "soup = BeautifulSoup(r, \"html.parser\")\n",
        "\n",
        "transcripts_list_raw = list(soup.find(text=\"Found transcripts in variant region\").findNext('pre').stripped_strings)\n",
        "\n",
        "transcripts = []\n",
        "\n",
        "for index, raw_trans in enumerate(transcripts_list_raw):\n",
        "    raw_trans_unedited =transcripts_list_raw[index].replace('\\n',',') .split('\\t') \n",
        "    raw_trans_edited = [i.strip(',') for i in raw_trans_unedited if i and i[-1]!=':' ]\n",
        "    transcripts.extend(raw_trans_edited)\n",
        "    #print(raw_trans_edited) .strip(',')\n",
        "\n",
        "print(transcripts)"
      ],
      "metadata": {
        "colab": {
          "base_uri": "https://localhost:8080/"
        },
        "id": "pXe0vK82yokf",
        "outputId": "0e47e95e-b12a-4da6-92f4-228972e04db6"
      },
      "execution_count": null,
      "outputs": [
        {
          "output_type": "stream",
          "name": "stdout",
          "text": [
            "['LRG_754t1:c.-77G>A', 'NM_005633.3:c.-77G>A', 'XM_005264515.1:c.-77G>A']\n"
          ]
        }
      ]
    },
    {
      "cell_type": "code",
      "source": [
        "\n",
        "#   code\n",
        "\n",
        "import requests\n",
        "from bs4 import BeautifulSoup\n",
        "\n",
        "url = 'https://mutalyzer.nl/position-converter?assembly_name_or_alias=GRCh38&description=LRG_754t1:c.-77G>A'\n",
        "r = requests.get(url).text\n",
        "\n",
        "soup = BeautifulSoup(r, \"html.parser\")\n",
        "\n",
        "variants_list_raw =  soup.find(text=\"Chromosomal variant\").findNext('p').text\n",
        "\n",
        "\n",
        "print(variants_list_raw)\n"
      ],
      "metadata": {
        "colab": {
          "base_uri": "https://localhost:8080/"
        },
        "id": "pfdLPX7EMZr1",
        "outputId": "6a913441-d8f1-4385-9797-e90cc0d1ac1e"
      },
      "execution_count": null,
      "outputs": [
        {
          "output_type": "stream",
          "name": "stdout",
          "text": [
            "NC_000002.12:g.39120499C>T\n"
          ]
        }
      ]
    },
    {
      "cell_type": "code",
      "source": [
        ""
      ],
      "metadata": {
        "id": "fxbcMB5FDWuo"
      },
      "execution_count": null,
      "outputs": []
    },
    {
      "cell_type": "code",
      "source": [
        ",variant=NM_003002.3:c.274G>T"
      ],
      "metadata": {
        "id": "3Ryqrse3DWxP"
      },
      "execution_count": null,
      "outputs": []
    },
    {
      "cell_type": "code",
      "source": [
        "import requests "
      ],
      "metadata": {
        "id": "-WgPIkk_DWzt"
      },
      "execution_count": null,
      "outputs": []
    },
    {
      "cell_type": "code",
      "source": [
        "r = requests.get('https://mutalyzer.nl/json/numberConversion?variant=NC_000011.9:g.17449829G>A&build=hg19')"
      ],
      "metadata": {
        "id": "6YVcRuWADccX"
      },
      "execution_count": null,
      "outputs": []
    },
    {
      "cell_type": "code",
      "source": [
        "print( (r.json()))"
      ],
      "metadata": {
        "colab": {
          "base_uri": "https://localhost:8080/"
        },
        "id": "9V_vme2CDcfW",
        "outputId": "f9ce1e4b-d123-427b-a0d5-669f37af4db8"
      },
      "execution_count": null,
      "outputs": [
        {
          "output_type": "stream",
          "name": "stdout",
          "text": [
            "['XM_005253088.1:c.2040+7C>T', 'LRG_790t1:c.2040+7C>T', 'NM_000352.3:c.2040+7C>T']\n"
          ]
        }
      ]
    },
    {
      "cell_type": "code",
      "source": [
        "import urllib\n",
        " \n",
        "input =  (urllib.parse.quote('LRG_790t1:c.2040+7C>T' ))\n",
        "\n",
        "#input = 'LRG_790t1:c.1923+12G>A'\n",
        "\n",
        "r = requests.get('https://mutalyzer.nl/json/numberConversion?variant={}&build=hg38'.format(input)) \n",
        "ans = r.json()\n",
        "ans"
      ],
      "metadata": {
        "colab": {
          "base_uri": "https://localhost:8080/"
        },
        "id": "ag2KM-sVDch0",
        "outputId": "f01e6da1-ed9e-47cb-e0c5-5bec9b1cfadf"
      },
      "execution_count": null,
      "outputs": [
        {
          "output_type": "execute_result",
          "data": {
            "text/plain": [
              "['NC_000011.10:g.17428282G>A']"
            ]
          },
          "metadata": {},
          "execution_count": 51
        }
      ]
    },
    {
      "cell_type": "code",
      "source": [
        "import requests, logging\n",
        "import urllib\n",
        "logger = logging.getLogger(__name__)\n",
        "\n",
        "def get_hgvs_hg38(hgvs_id):\n",
        "    \"\"\"\n",
        "    Replicates the Mutalyzer - Position converter tool\n",
        "    :param hgvs_id: hg19 variant\n",
        "    :return: hg38 variant / error message\n",
        "    \"\"\"\n",
        "    hgvs_id = urllib.parse.quote_plus(hgvs_id)\n",
        "    hgvs_grch38_id  = None \n",
        "\n",
        "    mutalyzer_baseurl = 'https://mutalyzer.nl/json/'\n",
        "\n",
        "    transcripts_hg19 = requests.get(mutalyzer_baseurl + 'numberConversion?variant={}&build=hg19'.format(hgvs_id)).json()\n",
        "    #print('***********************************',transcripts_hg19)\n",
        "\n",
        "    if type(transcripts_hg19) == list:  # valid result type\n",
        "        # trying to get the variants  hg38\n",
        "\n",
        "        for trans in transcripts_hg19:\n",
        "            trans = urllib.parse.quote_plus(trans)\n",
        "            variants_hg38 = requests.get(\n",
        "                mutalyzer_baseurl + 'numberConversion?variant={}&build=hg38'.format(trans)).json()\n",
        "            #print(trans,variants_hg38)\n",
        "\n",
        "            if variants_hg38[0]:\n",
        "                hgvs_grch38_id = variants_hg38[0]\n",
        "                return hgvs_grch38_id\n",
        "            logger.warning('No ID obtained for {} variant as there is no variants available for transcript {}'.format(hgvs_id, trans))\n",
        "             \n",
        "\n",
        "    else:\n",
        "        logger.warning('No ID obtained for {} variant as there is no transcripts_hg19 available'.format(hgvs_id))\n",
        "        return None"
      ],
      "metadata": {
        "id": "zWtza3-MLHTT"
      },
      "execution_count": null,
      "outputs": []
    },
    {
      "cell_type": "code",
      "source": [
        ""
      ],
      "metadata": {
        "id": "BkUbhB2Y8rJZ"
      },
      "execution_count": null,
      "outputs": []
    },
    {
      "cell_type": "code",
      "source": [
        "#print(get_hgvs_hg38('NC_000002.11:g.21225485C>G'))\n",
        "#print(get_hgvs_hg38('NC_000003.11:g.37053590G>T'))\n",
        "#print(get_hgvs_hg38('NC_000007.13:g.144107255A>G'))\n",
        "#print(get_hgvs_hg38('NC_000002.11:g.39347640C>T'))\n",
        "#print(get_hgvs_hg38('NC_000009.11:g.131267212C>G'))\n",
        "print(get_hgvs_hg38('NC_000002.11:g.21225485C>G'))"
      ],
      "metadata": {
        "colab": {
          "base_uri": "https://localhost:8080/"
        },
        "id": "icK6HpLQaqz0",
        "outputId": "dcf2c550-f3f3-49f9-e859-da1a8d059355"
      },
      "execution_count": null,
      "outputs": [
        {
          "output_type": "stream",
          "name": "stdout",
          "text": [
            "NC_000002.12:g.21002613C>G\n"
          ]
        }
      ]
    },
    {
      "cell_type": "code",
      "source": [
        "#print(get_hgvs_hg38('NC_000002.11:g.21225485C>G'))\n",
        "#print(get_hgvs_hg38('NC_000002.11:g.212'))\n",
        "print(get_hgvs_hg38('NC_000'))"
      ],
      "metadata": {
        "colab": {
          "base_uri": "https://localhost:8080/"
        },
        "id": "AvtEBnGrbvTT",
        "outputId": "9201bc59-9051-497b-84f4-680020f9e80b"
      },
      "execution_count": null,
      "outputs": [
        {
          "output_type": "stream",
          "name": "stderr",
          "text": [
            "No ID obtained for NC_000 variant as there is no transcripts_hg19 available\n"
          ]
        },
        {
          "output_type": "stream",
          "name": "stdout",
          "text": [
            "None\n"
          ]
        }
      ]
    },
    {
      "cell_type": "code",
      "source": [
        "print(get_hgvs_hg38('NC_000023.10:g.76938153G>C'))"
      ],
      "metadata": {
        "colab": {
          "base_uri": "https://localhost:8080/"
        },
        "id": "jFJkLYN9bmZM",
        "outputId": "4b7fa123-3d1d-4eea-b882-61bb2845cae9"
      },
      "execution_count": null,
      "outputs": [
        {
          "output_type": "stream",
          "name": "stderr",
          "text": [
            "No ID obtained for NC_000023.10%3Ag.76938153G%3EC variant as there is no variants available for transcript XM_005262156.1%3Ac.2430C%3EG\n",
            "No ID obtained for NC_000023.10%3Ag.76938153G%3EC variant as there is no variants available for transcript NM_000489.3%3Ac.2595C%3EG\n",
            "No ID obtained for NC_000023.10%3Ag.76938153G%3EC variant as there is no variants available for transcript NM_138270.2%3Ac.2481C%3EG\n",
            "No ID obtained for NC_000023.10%3Ag.76938153G%3EC variant as there is no variants available for transcript XM_005262155.1%3Ac.2478C%3EG\n",
            "No ID obtained for NC_000023.10%3Ag.76938153G%3EC variant as there is no variants available for transcript XM_005262153.1%3Ac.2592C%3EG\n",
            "No ID obtained for NC_000023.10%3Ag.76938153G%3EC variant as there is no variants available for transcript XM_005262154.1%3Ac.2508C%3EG\n",
            "No ID obtained for NC_000023.10%3Ag.76938153G%3EC variant as there is no variants available for transcript XM_005262157.1%3Ac.2391C%3EG\n",
            "No ID obtained for NC_000023.10%3Ag.76938153G%3EC variant as there is no variants available for transcript XM_005262158.1%3Ac.2592C%3EG\n"
          ]
        },
        {
          "output_type": "stream",
          "name": "stdout",
          "text": [
            "None\n"
          ]
        }
      ]
    },
    {
      "cell_type": "code",
      "source": [
        "print(get_hgvs_hg38('NC_000001.10:g.55505647G>T'))"
      ],
      "metadata": {
        "colab": {
          "base_uri": "https://localhost:8080/"
        },
        "id": "klM5C-FfA1Sn",
        "outputId": "1849f5b5-9280-47ff-ea01-4c34c6e3aebd"
      },
      "execution_count": null,
      "outputs": [
        {
          "output_type": "stream",
          "name": "stdout",
          "text": [
            "NC_000001.11:g.55039974G>T\n"
          ]
        }
      ]
    },
    {
      "cell_type": "code",
      "source": [
        "print(get_hgvs_hg38('NC_000016.9:g.70295047G>A'))"
      ],
      "metadata": {
        "colab": {
          "base_uri": "https://localhost:8080/"
        },
        "id": "ZBt-I2qyGSD1",
        "outputId": "c9dfe332-fb0a-4756-be7a-284882798cd6"
      },
      "execution_count": null,
      "outputs": [
        {
          "output_type": "stream",
          "name": "stderr",
          "text": [
            "No ID obtained for NC_000016.9%3Ag.70295047G%3EA variant as there is no variants available for transcript XM_005255813.1%3Ac.1685C%3ET\n"
          ]
        },
        {
          "output_type": "stream",
          "name": "stdout",
          "text": [
            "NC_000016.10:g.70261144G>A\n"
          ]
        }
      ]
    },
    {
      "cell_type": "code",
      "source": [
        "print(get_hgvs_hg38('NC_000002.11:g.39251379_39251380insCCA'))"
      ],
      "metadata": {
        "colab": {
          "base_uri": "https://localhost:8080/"
        },
        "id": "lf9aLA5vGSG0",
        "outputId": "faa2cf31-6707-4fc3-ea03-230d4f76834c"
      },
      "execution_count": null,
      "outputs": [
        {
          "output_type": "stream",
          "name": "stdout",
          "text": [
            "NC_000002.12:g.39024238_39024239insCCA\n"
          ]
        }
      ]
    },
    {
      "cell_type": "code",
      "source": [
        "print(get_hgvs_hg38('NC_000011.9:g.71903218A>G'))"
      ],
      "metadata": {
        "colab": {
          "base_uri": "https://localhost:8080/"
        },
        "id": "wgerjcMCH53G",
        "outputId": "323ff85e-d98e-4eac-bb20-adf9a052124e"
      },
      "execution_count": null,
      "outputs": [
        {
          "output_type": "stream",
          "name": "stderr",
          "text": [
            "No ID obtained for NC_000011.9%3Ag.71903218A%3EG variant as there is no variants available for transcript NM_016725.1%3Ac.1A%3EG\n"
          ]
        },
        {
          "output_type": "stream",
          "name": "stdout",
          "text": [
            "NC_000011.10:g.72192174A>G\n"
          ]
        }
      ]
    },
    {
      "cell_type": "code",
      "source": [
        "print(get_hgvs_hg38('NC_000010.10:g.102749536C>G'))"
      ],
      "metadata": {
        "colab": {
          "base_uri": "https://localhost:8080/"
        },
        "id": "8XB4shYNH6Dz",
        "outputId": "5133ad1d-09a9-4e1f-ff7e-eee587c09367"
      },
      "execution_count": null,
      "outputs": [
        {
          "output_type": "stream",
          "name": "stderr",
          "text": [
            "No ID obtained for NC_000010.10%3Ag.102749536C%3EG variant as there is no variants available for transcript XM_005270009.1%3Ac.%2A5648C%3EG\n"
          ]
        },
        {
          "output_type": "stream",
          "name": "stdout",
          "text": [
            "NC_000010.11:g.100989779C>G\n"
          ]
        }
      ]
    },
    {
      "cell_type": "code",
      "source": [
        ""
      ],
      "metadata": {
        "id": "yUARFw738sJi"
      },
      "execution_count": null,
      "outputs": []
    },
    {
      "cell_type": "code",
      "source": [
        ""
      ],
      "metadata": {
        "id": "mMeoGLy88sMn"
      },
      "execution_count": null,
      "outputs": []
    },
    {
      "cell_type": "code",
      "source": [
        ""
      ],
      "metadata": {
        "id": "Fgy342X78sPf"
      },
      "execution_count": null,
      "outputs": []
    },
    {
      "cell_type": "code",
      "source": [
        "import urllib\n",
        "urllib.parse.quote('NM_001367624.2:c.7553C>A').replace('%3A',':')"
      ],
      "metadata": {
        "colab": {
          "base_uri": "https://localhost:8080/",
          "height": 36
        },
        "id": "LgA1q77o8sSn",
        "outputId": "80e264e6-78c7-41c2-84a5-1513d0d64a88"
      },
      "execution_count": null,
      "outputs": [
        {
          "output_type": "execute_result",
          "data": {
            "text/plain": [
              "'NM_001367624.2:c.7553C%3EA'"
            ],
            "application/vnd.google.colaboratory.intrinsic+json": {
              "type": "string"
            }
          },
          "metadata": {},
          "execution_count": 8
        }
      ]
    },
    {
      "cell_type": "code",
      "source": [
        "urllib.parse.quote_plus('NM_000059.4:c.*8C>T')"
      ],
      "metadata": {
        "colab": {
          "base_uri": "https://localhost:8080/",
          "height": 36
        },
        "id": "Y5PC0gB69CLK",
        "outputId": "1b71d07e-5d30-4dd3-ab9e-4d268b84fbbd"
      },
      "execution_count": null,
      "outputs": [
        {
          "output_type": "execute_result",
          "data": {
            "text/plain": [
              "'NM_000059.4%3Ac.%2A8C%3ET'"
            ],
            "application/vnd.google.colaboratory.intrinsic+json": {
              "type": "string"
            }
          },
          "metadata": {},
          "execution_count": 2
        }
      ]
    },
    {
      "cell_type": "code",
      "source": [
        "import urllib.request as req\n",
        "req.pathname2url('NM_001367624.2:c.7553C>A')"
      ],
      "metadata": {
        "colab": {
          "base_uri": "https://localhost:8080/",
          "height": 36
        },
        "id": "1c-HLc7SJHkq",
        "outputId": "a9da7d19-bd15-418f-8d2e-3f2b6431a6a3"
      },
      "execution_count": null,
      "outputs": [
        {
          "output_type": "execute_result",
          "data": {
            "text/plain": [
              "'NM_001367624.2%3Ac.7553C%3EA'"
            ],
            "application/vnd.google.colaboratory.intrinsic+json": {
              "type": "string"
            }
          },
          "metadata": {},
          "execution_count": 7
        }
      ]
    }
  ]
}